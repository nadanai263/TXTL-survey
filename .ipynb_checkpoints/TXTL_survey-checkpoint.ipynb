{
 "cells": [
  {
   "cell_type": "code",
   "execution_count": 1,
   "metadata": {},
   "outputs": [],
   "source": [
    "from IPython.display import Image, display\n",
    "import matplotlib.pyplot as plt\n",
    "import numpy as np\n",
    "from scipy.integrate import odeint"
   ]
  },
  {
   "cell_type": "markdown",
   "metadata": {},
   "source": [
    "# Survey of cell-free transcription-translation models\n",
    "May 2020, Nadanai Laohakunakorn \n",
    "\n",
    "*Please report any errors you spot to nadanai.laohakunakorn@ed.ac.uk*\n"
   ]
  },
  {
   "cell_type": "markdown",
   "metadata": {},
   "source": [
    "Here I give a brief introduction to different cell-free models available in the literature, and present examples of how to simulate them. I implement them all in the same format (which may look different to the original implementation) in order to highlight their features."
   ]
  },
  {
   "cell_type": "markdown",
   "metadata": {},
   "source": [
    "### 1. Constitutive coupled transcription/translation"
   ]
  },
  {
   "cell_type": "markdown",
   "metadata": {},
   "source": [
    "This is the simplest possible model which contains both transcription and translation. Transcription proceeds at a constant rate $k_1$ to produce mRNA $m$, and translation is linearly proportional to the concentration of $m$ present. The protein is represented by $p$. The implementation involves defining a gradient function which encodes the derivatives to be solved; this is then passed into the ODE solver, along with parameters and initial conditions. For the basic models the parameters are dimensionless. Parameters with physical values may be approximated, obtained from the literature, or directly inferred from experiments (for instance, by fitting the model predictions to experimental time-course and titration data)."
   ]
  },
  {
   "cell_type": "markdown",
   "metadata": {},
   "source": [
    "*Mechanism*\n",
    "\n",
    "\\begin{equation}\n",
    "\\emptyset \\overset{k_1}\\rightarrow m\n",
    "\\end{equation}\n",
    "\\begin{equation}\n",
    "m \\overset{k_a}\\rightarrow p\n",
    "\\end{equation}\n",
    "\n",
    "*ODEs*\n",
    "\n",
    "\\begin{align}\n",
    "\\dot{m} &= k_1 \\\\\n",
    "\\dot{p} &= k_a m\n",
    "\\end{align}"
   ]
  },
  {
   "cell_type": "code",
   "execution_count": 2,
   "metadata": {
    "code_folding": [
     3
    ]
   },
   "outputs": [
    {
     "data": {
      "image/png": "[encoded data removed]",
      "text/plain": [
       "<Figure size 432x288 with 1 Axes>"
      ]
     },
     "metadata": {
      "needs_background": "light"
     },
     "output_type": "display_data"
    }
   ],
   "source": [
    "# Implementation\n",
    "\n",
    "# Define the model's gradient function\n",
    "def M1(y, t, params):\n",
    "    m = y[0]\n",
    "    p = y[1]\n",
    "    \n",
    "    k1 = params[0]\n",
    "    ka = params[1]\n",
    "   \n",
    "    derivs = [\n",
    "        k1,\n",
    "        ka*m\n",
    "    ]\n",
    "    return(derivs)\n",
    "\n",
    "# Set initial conditions \n",
    "m0 = 0.0\n",
    "p0 = 0.0\n",
    "\n",
    "# Set parameters\n",
    "k1 = 1.0\n",
    "ka = 1.0\n",
    "\n",
    "# Solve\n",
    "time = np.linspace(0,10,100)\n",
    "y0 = np.array([m0,p0])\n",
    "params = np.array([k1,ka])\n",
    "sol = odeint(M1, y0, time, args=(params,))\n",
    "\n",
    "# Plot\n",
    "plt.plot(time,sol[:,0], label='m');\n",
    "plt.plot(time,sol[:,1], label='p');\n",
    "plt.xlabel('t (dimensionless)'); plt.ylabel('concs (dimensionless)'); plt.legend(); plt.show()"
   ]
  },
  {
   "cell_type": "markdown",
   "metadata": {},
   "source": [
    "### 2. Constitutive coupled transcription/translation with degradation"
   ]
  },
  {
   "cell_type": "markdown",
   "metadata": {},
   "source": [
    "Here we allow both protein and mRNA to decay with first order kinetics, which involves adding two extra reactions to the mechanism, and two terms to the ODEs. Experimentally we typically observe much faster mRNA degradation compared to protein degradation, which in this example is set to 0. The output is an mRNA concentration which saturates to a constant value, representing the situation where the production and degradation rates are equal. Since the protein synthesis rate is proportional to mRNA concentration, when the mRNA concentration saturates to a constant, the protein concentration increases linearly."
   ]
  },
  {
   "cell_type": "markdown",
   "metadata": {},
   "source": [
    "*Mechanism*\n",
    "\n",
    "\\begin{equation}\n",
    "\\emptyset \\overset{k_1}\\rightarrow m \n",
    "\\end{equation}\n",
    "\\begin{equation}\n",
    "m \\overset{k_a}\\rightarrow p\n",
    "\\end{equation}\n",
    "\\begin{equation}\n",
    "m \\overset{k_2}\\rightarrow \\emptyset\n",
    "\\end{equation}\n",
    "\\begin{equation}\n",
    "p \\overset{k_b}\\rightarrow \\emptyset\n",
    "\\end{equation}\n",
    "\n",
    "*ODEs*\n",
    "\n",
    "\\begin{align}\n",
    "\\dot{m} &= k_1 - k_2 m \\\\\n",
    "\\dot{p} &= k_a m - k_b p\n",
    "\\end{align}"
   ]
  },
  {
   "cell_type": "code",
   "execution_count": 3,
   "metadata": {
    "code_folding": [
     3
    ]
   },
   "outputs": [
    {
     "data": {
      "image/png": "[encoded data removed]",
      "text/plain": [
       "<Figure size 432x288 with 1 Axes>"
      ]
     },
     "metadata": {
      "needs_background": "light"
     },
     "output_type": "display_data"
    }
   ],
   "source": [
    "# Implementation\n",
    "\n",
    "# Define the model's gradient function\n",
    "def M2(y, t, params):\n",
    "    m = y[0]\n",
    "    p = y[1]\n",
    "    \n",
    "    k1 = params[0]\n",
    "    k2 = params[1]\n",
    "    ka = params[2]\n",
    "    kb = params[3]\n",
    "   \n",
    "    derivs = [\n",
    "        k1 - k2*m,\n",
    "        ka*m - kb*p\n",
    "    ]\n",
    "    return(derivs)\n",
    "\n",
    "# Set initial conditions \n",
    "m0 = 0.0\n",
    "p0 = 0.0\n",
    "\n",
    "# Set parameters\n",
    "k1 = 1.0\n",
    "k2 = 1.0\n",
    "ka = 1.0\n",
    "kb = 0.0\n",
    "\n",
    "# Solve\n",
    "time = np.linspace(0,10,100)\n",
    "y0 = np.array([m0,p0])\n",
    "params = np.array([k1,k2,ka,kb])\n",
    "sol = odeint(M2, y0, time, args=(params,))\n",
    "\n",
    "# Plot\n",
    "plt.plot(time,sol[:,0], label='m');\n",
    "plt.plot(time,sol[:,1], label='p');\n",
    "plt.xlabel('t (dimensionless)'); plt.ylabel('concs (dimensionless)'); plt.legend(); plt.show()"
   ]
  },
  {
   "cell_type": "markdown",
   "metadata": {},
   "source": [
    "### 3. Binary mechanistic transcription/translation with degradation"
   ]
  },
  {
   "cell_type": "markdown",
   "metadata": {},
   "source": [
    "Here both transcription and translation are explictly modelled using the simplest enzyme-catalysed mechanism, that of irreversible catalysis proceeding through a bimolecular intermediate. $d$, $R$, and $r$ represent concentrations of DNA, RNAP, and ribosome respectively. This is a simplified representation of the actual mechanism, which proceeds through many more steps: for instance, mRNA and protein synthesis are polymerisation reactions which contain initiation, elongation, and termination steps, which in this model are simplified into one catalytic rate constant ($k_3$ for transcription, and $k_c$ for translation.)\n",
    "\n",
    "Qualitatively this can look similar to the previous simpler model; however the behaviour is dependent on the values of the internal parameters, which must be estimated from experimental measurements. Typically, the binding rates of RNAP to DNA, and mRNA to ribosome, are faster than the catalytic step."
   ]
  },
  {
   "cell_type": "markdown",
   "metadata": {},
   "source": [
    "*Mechanism*\n",
    "\n",
    "\\begin{equation}\n",
    "d + R \\underset{k_{2}}{\\stackrel{k_1}{\\rightleftharpoons}} [Rd] \\overset{k_3}\\rightarrow m + d + R\n",
    "\\end{equation}\n",
    "\\begin{equation}\n",
    "m + r \\underset{k_{b}}{\\stackrel{k_a}{\\rightleftharpoons}} [rm] \\overset{k_c}\\rightarrow p + m + r\n",
    "\\end{equation}\n",
    "\n",
    "\\begin{equation}\n",
    "m \\overset{k_4}\\rightarrow \\emptyset\n",
    "\\end{equation}\n",
    "\\begin{equation}\n",
    "p \\overset{k_d}\\rightarrow \\emptyset\n",
    "\\end{equation}\n",
    "\n",
    "*ODEs*    \n",
    "                \n",
    "\\begin{align}\n",
    "\\dot{d} &= -k_1dR + k_2 [Rd] + k_3 [Rd] \\\\\n",
    "\\dot{R} &= -k_1dR + k_2 [Rd] + k_3 [Rd] \\\\\n",
    "\\dot{[Rd]} &= k_1dR - k_2 [Rd] - k_3 [Rd] \\\\\n",
    "\\dot{m} &= k_3 [Rd] -k_amr + k_b [rm] + k_c [rm]- k_4m \\\\\n",
    "\\dot{r} &= -k_amr + k_b [rm] + k_c [rm]\\\\\n",
    "\\dot{[rm]} &= k_amr - k_b [rm] - k_c [rm] \\\\\n",
    "\\dot{p} &= k_c[rm] - k_dp\n",
    "\\end{align}"
   ]
  },
  {
   "cell_type": "code",
   "execution_count": 4,
   "metadata": {
    "code_folding": []
   },
   "outputs": [
    {
     "data": {
      "image/png": "[encoded data removed]",
      "text/plain": [
       "<Figure size 432x288 with 1 Axes>"
      ]
     },
     "metadata": {
      "needs_background": "light"
     },
     "output_type": "display_data"
    }
   ],
   "source": [
    "# Implementation\n",
    "\n",
    "# Define the model's gradient function\n",
    "def M3(y, t, params):\n",
    "    d = y[0]\n",
    "    R = y[1]\n",
    "    Rd = y[2]\n",
    "    m = y[3]\n",
    "    r = y[4]\n",
    "    rm = y[5]\n",
    "    p = y[6]\n",
    "    \n",
    "    k1 = params[0]\n",
    "    k2 = params[1]\n",
    "    k3 = params[2]\n",
    "    k4 = params[3]\n",
    "    ka = params[4]\n",
    "    kb = params[5]\n",
    "    kc = params[6]\n",
    "    kd = params[7]\n",
    "   \n",
    "    derivs = [\n",
    "        -k1*d*r + k2*Rd + k3*Rd,\n",
    "        -k1*d*r + k2*Rd + k3*Rd,\n",
    "        k1*d*r - k2*Rd - k3*Rd,\n",
    "        k3*Rd - ka*m*r + kb*rm + kc*rm - k4*m,\n",
    "        -ka*m*r + kb*rm + kc*rm,\n",
    "        ka*m*r - kb*rm - kc*rm,\n",
    "        kc*rm - kd*p \n",
    "    ]\n",
    "    return(derivs)\n",
    "\n",
    "# Set initial condition\n",
    "d0 = 1.0\n",
    "R0 = 1.0\n",
    "Rd0 = 0.0\n",
    "m0 = 0.0\n",
    "r0 = 1.0\n",
    "rm0 = 0.0\n",
    "p0 = 0.0\n",
    "\n",
    "# Set parameters\n",
    "k1 = 1.0\n",
    "k2 = 1.0\n",
    "k3 = 1.0\n",
    "k4 = 1.0\n",
    "ka = 1.0\n",
    "kb = 1.0\n",
    "kc = 1.0\n",
    "kd = 0.0\n",
    "\n",
    "# Solve\n",
    "time = np.linspace(0,10,100)\n",
    "y0 = np.array([d0,R0,Rd0,m0,r0,rm0,p0])\n",
    "params = np.array([k1,k2,k3,k4,ka,kb,kc,kd])\n",
    "sol = odeint(M3, y0, time, args=(params,))\n",
    "\n",
    "# Plot\n",
    "plt.plot(time,sol[:,3]+sol[:,5], label='m');\n",
    "plt.plot(time,sol[:,6], label='p');\n",
    "plt.xlabel('t (dimensionless)'); plt.ylabel('concs (dimensionless)'); plt.legend(); plt.show()"
   ]
  },
  {
   "cell_type": "markdown",
   "metadata": {},
   "source": [
    "### 4. Binary mechanistic transcription/translation with termination"
   ]
  },
  {
   "cell_type": "markdown",
   "metadata": {},
   "source": [
    "Cell-free reactions terminate after a few hours. This can be due to substrate depletion, enzymatic inactivation, or loss of homeostasis. In this model we represent the process using an exponential decay of the catalytic rate constants. The qualitative behaviour observed is a saturation of protein concentration, and a peaked mRNA profile. These features are observed in experimental plate reader traces, and so this model is the first one which captures qualitative experimental observations."
   ]
  },
  {
   "cell_type": "markdown",
   "metadata": {},
   "source": [
    "*Mechanism*\n",
    "\n",
    "\\begin{equation}\n",
    "d + R \\underset{k_{2}}{\\stackrel{k_1}{\\rightleftharpoons}} [Rd] \\overset{k_3}\\rightarrow m + d + R\n",
    "\\end{equation}\n",
    "\\begin{equation}\n",
    "m + r \\underset{k_{b}}{\\stackrel{k_a}{\\rightleftharpoons}} [rm] \\overset{k_c}\\rightarrow p + m + r\n",
    "\\end{equation}\n",
    "\\begin{equation}\n",
    "m \\overset{k_4}\\rightarrow \\emptyset\n",
    "\\end{equation}\n",
    "\\begin{equation}\n",
    "p \\overset{k_d}\\rightarrow \\emptyset\n",
    "\\end{equation}\n",
    "\\begin{equation}\n",
    "k_3 \\overset{\\lambda}\\rightarrow 0\n",
    "\\end{equation}\n",
    "\\begin{equation}\n",
    "k_c \\overset{\\lambda}\\rightarrow 0\n",
    "\\end{equation}\n",
    "\n",
    "\n",
    "*ODEs*    \n",
    "                \n",
    "\\begin{align}\n",
    "\\dot{d} &= -k_1dR + k_2 [Rd] + k_3(t) [Rd] \\\\\n",
    "\\dot{R} &= -k_1dR + k_2 [Rd] + k_3(t) [Rd] \\\\\n",
    "\\dot{[Rd]} &= k_1dR - k_2 [Rd] - k_3(t) [Rd] \\\\\n",
    "\\dot{m} &= k_3(t) [Rd] -k_amr + k_b [rm] + k_c(t) [rm]- k_4m \\\\\n",
    "\\dot{r} &= -k_amr + k_b [rm] + k_c(t) [rm]\\\\\n",
    "\\dot{[rm]} &= k_amr - k_b [rm] - k_c(t) [rm] \\\\\n",
    "\\dot{p} &= k_c(t)[rm] - k_dp\n",
    "\\end{align}\n",
    "\n",
    "\\begin{align}\n",
    "k_3(t) &= k_3 \\exp(-\\lambda t) \\\\\n",
    "k_c(t) &= k_c \\exp(-\\lambda t)\n",
    "\\end{align}"
   ]
  },
  {
   "cell_type": "code",
   "execution_count": 5,
   "metadata": {
    "code_folding": [
     3
    ]
   },
   "outputs": [
    {
     "data": {
      "image/png": "[encoded data removed]",
      "text/plain": [
       "<Figure size 432x288 with 1 Axes>"
      ]
     },
     "metadata": {
      "needs_background": "light"
     },
     "output_type": "display_data"
    }
   ],
   "source": [
    "# Implementation\n",
    "\n",
    "# Define the model's gradient function\n",
    "def M4(y, t, params):\n",
    "    d = y[0]\n",
    "    R = y[1]\n",
    "    Rd = y[2]\n",
    "    m = y[3]\n",
    "    r = y[4]\n",
    "    rm = y[5]\n",
    "    p = y[6]\n",
    "    k3 = y[7]\n",
    "    kc = y[8]\n",
    "    \n",
    "    k1 = params[0]\n",
    "    k2 = params[1]\n",
    "    k4 = params[2]\n",
    "    ka = params[3]\n",
    "    kb = params[4]\n",
    "    kd = params[5]\n",
    "    lamb = params[6]\n",
    "   \n",
    "    derivs = [\n",
    "        -k1*d*r + k2*Rd + k3*Rd,\n",
    "        -k1*d*r + k2*Rd + k3*Rd,\n",
    "        k1*d*r - k2*Rd - k3*Rd,\n",
    "        k3*Rd - ka*m*r + kb*rm + kc*rm - k4*m,\n",
    "        -ka*m*r + kb*rm + kc*rm,\n",
    "        ka*m*r - kb*rm - kc*rm,\n",
    "        kc*rm - kd*p,\n",
    "        -lamb*k3,\n",
    "        -lamb*kc\n",
    "    ]\n",
    "    return(derivs)\n",
    "\n",
    "# Set initial condition\n",
    "d0 = 1.0\n",
    "R0 = 1.0\n",
    "Rd0 = 0.0\n",
    "m0 = 0.0\n",
    "r0 = 1.0\n",
    "rm0 = 0.0\n",
    "p0 = 0.0\n",
    "k3 = 1.0\n",
    "kc = 1.0\n",
    "\n",
    "# Set parameters\n",
    "k1 = 1.0\n",
    "k2 = 1.0\n",
    "k4 = 1.0\n",
    "ka = 1.0\n",
    "kb = 1.0\n",
    "kd = 0.0\n",
    "lamb = 1.0\n",
    "\n",
    "# Solve\n",
    "time = np.linspace(0,10,100)\n",
    "y0 = np.array([d0,R0,Rd0,m0,r0,rm0,p0,k3,kc])\n",
    "params = np.array([k1,k2,k4,ka,kb,kd,lamb])\n",
    "sol = odeint(M4, y0, time, args=(params,))\n",
    "\n",
    "# Plot\n",
    "plt.plot(time,sol[:,3]+sol[:,5], label='m');\n",
    "plt.plot(time,sol[:,6], label='p');\n",
    "plt.xlabel('t (dimensionless)'); plt.ylabel('concs (dimensionless)'); plt.legend(); plt.show()"
   ]
  },
  {
   "cell_type": "markdown",
   "metadata": {},
   "source": [
    "### 5. Quasi steady-state transcription/translation with termination"
   ]
  },
  {
   "cell_type": "markdown",
   "metadata": {},
   "source": [
    "In order to extend the above model to account for multiple species, for instance for more than one gene, kinetic equations have to be added for for every mechanism. This is possible but laborious to do by hand, or can be automated using chemical kinetics simulators such as Tellurium (https://github.com/sys-bio/tellurium). An alternative way is to apply a quasi steady state approximation, where the binding reactions are considered much faster than the catalytic reactions. This allows the model to be reduced to a simpler format, with the steady-state concentrations of all bimolecular complexes approximated by algebraic equations. However, the ODEs have to be solved in parallel with the algebraic constraints, leading to a system of equations known as DAEs, or differential-algebraic equations. This is not possible to solve with Python using standard packages, but can be easily solved in Julia."
   ]
  },
  {
   "cell_type": "markdown",
   "metadata": {},
   "source": [
    "*Mechanism*\n",
    "\n",
    "\\begin{equation}\n",
    "\\emptyset \\overset{k_3(t)[Rd]_{ss}}\\rightarrow m\n",
    "\\end{equation}\n",
    "\\begin{equation}\n",
    "\\emptyset \\overset{k_c(t)[rm]_{ss}}\\rightarrow p\n",
    "\\end{equation}\n",
    "\\begin{equation}\n",
    "m \\overset{k_4}\\rightarrow \\emptyset\n",
    "\\end{equation}\n",
    "\\begin{equation}\n",
    "p \\overset{k_d}\\rightarrow \\emptyset\n",
    "\\end{equation}\n",
    "\\begin{equation}\n",
    "k_3 \\overset{\\lambda}\\rightarrow 0\n",
    "\\end{equation}\n",
    "\\begin{equation}\n",
    "k_c \\overset{\\lambda}\\rightarrow 0\n",
    "\\end{equation}\n",
    "\n",
    "\n",
    "*DAEs*    \n",
    " \n",
    "Differential equations:\n",
    "\\begin{align}\n",
    "\\dot{m} &= k_3(t) [Rd]_{ss} - k_4m \\\\\n",
    "\\dot{p} &= k_c(t) [rm]_{ss} - k_dp\n",
    "\\end{align}\n",
    "\n",
    "Algebraic equations:\n",
    "\\begin{align}\n",
    "[Rd]_{ss} &= \\frac{1}{2} \\left[f_{TX} - \\sqrt{f_{TX}^2-4R_0d_0} \\right] \\\\\n",
    "[rm]_{ss} &= \\frac{1}{2} \\left[f_{TL} - \\sqrt{f_{TL}^2-4r_0 m} \\right] \\\\\n",
    "f_{TX} &= {R_0 + d_0 + K_{TX}} \\\\\n",
    "f_{TL} &= (r_0 + m + K_{TL})\n",
    "\\end{align}\n",
    "\n",
    "Rate and saturation constants:\n",
    "\\begin{align}\n",
    "k_3(t) &= k_3 \\exp(-\\lambda t) \\\\\n",
    "k_c(t) &= k_c \\exp(-\\lambda t) \\\\\n",
    "K_{TX} &= \\frac{k_2+k_3}{k_1} \\\\\n",
    "K_{TL} &= \\frac{k_b+k_c}{k_a}\n",
    "\\end{align}"
   ]
  },
  {
   "cell_type": "markdown",
   "metadata": {},
   "source": [
    "### 6. Condition-dependent termination (Stogbauer et al. 2012)"
   ]
  },
  {
   "cell_type": "markdown",
   "metadata": {},
   "source": [
    "This model has a more sophisticated description of reaction termination. Whereas in earlier examples we used simple exponential decay of catalytic rates, in this model the rates are kept constant, while the enzymatic species $E_{TX}$ and $E_{TL}$, representing transcriptional and translational enzyme concentrations respectively, degrade at a rate which depends on conditions within the reaction. In particular, the degradation of transcriptional rate is dependent on the DNA concentration. Below we implement the model using parameters from the original paper, and so the results are in physical units.\n",
    "\n",
    "Reference: https://doi.org/10.1039/c2ib00102k"
   ]
  },
  {
   "cell_type": "markdown",
   "metadata": {},
   "source": [
    "*Mechanism*\n",
    "\n",
    "\\begin{equation}\n",
    "\\emptyset \\overset{k_3 E_{TX} d/(K_{TX}+d)}\\rightarrow m\n",
    "\\end{equation}\n",
    "\\begin{equation}\n",
    "\\emptyset \\overset{k_c E_{TX} m/(K_{TL}+m)}\\rightarrow p\n",
    "\\end{equation}\n",
    "\\begin{equation}\n",
    "m \\overset{k_4}\\rightarrow \\emptyset\n",
    "\\end{equation}\n",
    "\n",
    "\\begin{equation}\n",
    "E_{TX} \\overset{\\lambda_1}\\rightarrow 0\n",
    "\\end{equation}\n",
    "\\begin{equation}\n",
    "E_{TL} \\overset{\\lambda_2}\\rightarrow 0\n",
    "\\end{equation}\n",
    "\n",
    "\\begin{align}\n",
    "\\dot{m}&=k_{3} E_{TX} \\frac{d}{K_{TX}+d} - k_4 m \\\\\n",
    "\\dot{p}&=k_{c} E_{TL} \\frac{m}{K_{TL}+m} \\\\\n",
    "\\dot{E_{TX}}&=-\\lambda_1 E_{TX}\\frac{d}{K_{TX}+d} \\\\\n",
    "\\dot{E_{TL}}&=-\\lambda_2\\frac{E_{TL}}{K_{ETL}+E_{TL}}\n",
    "\\end{align}"
   ]
  },
  {
   "cell_type": "code",
   "execution_count": 6,
   "metadata": {
    "code_folding": [
     0
    ]
   },
   "outputs": [
    {
     "data": {
      "image/png": "[encoded data removed]",
      "text/plain": [
       "<Figure size 432x288 with 1 Axes>"
      ]
     },
     "metadata": {
      "needs_background": "light"
     },
     "output_type": "display_data"
    }
   ],
   "source": [
    "# Implementation\n",
    "\n",
    "# Define the model's gradient function\n",
    "def M6(y, t, params):\n",
    "    m = y[0]\n",
    "    p = y[1]\n",
    "    ETX = y[2]\n",
    "    ETL = y[3]\n",
    "    \n",
    "    k3 = params[0]\n",
    "    k4 = params[1]\n",
    "    kc = params[2]\n",
    "    lamb1 = params[3]\n",
    "    lamb2 = params[4]\n",
    "    KTX = params[5]\n",
    "    KTL = params[6]\n",
    "    KETL = params[7]\n",
    "    d = params[8]\n",
    "   \n",
    "    derivs = [\n",
    "        k3*ETX*d/(KTX+d) - k4*m,\n",
    "        kc*ETL*m/(KTL+m),\n",
    "        -lamb1*ETX*d/(KTX+d),\n",
    "        -lamb2*ETL/(KETL+ETL)\n",
    "    ]\n",
    "    return(derivs)\n",
    "\n",
    "# Set initial condition\n",
    "\n",
    "m0 = 0.0\n",
    "p0 = 0.0\n",
    "ETX0 = 1.0\n",
    "ETL0 = 1.0\n",
    "\n",
    "# Set parameters\n",
    "k3 = 18.2 # nM/min = 2.2 NTP/s\n",
    "k4 = 7.8e-4 # min^-1\n",
    "kc = 16.1 # nM/min = 0.03 aa/s\n",
    "lamb1 = 1.1e-2 # min^-1\n",
    "lamb2 = 4.5e-3 # min^-1\n",
    "KTX = 8.5 # nM\n",
    "KTL = 65.8 # nM\n",
    "KETL = 6e-5\n",
    "d = 5\n",
    "\n",
    "# Solve\n",
    "time = np.linspace(0,1000,100)\n",
    "y0 = np.array([m0,p0,ETX0,ETL0])\n",
    "params = np.array([k3,k4,kc,lamb1,lamb2,KTX,KTL,KETL,d])\n",
    "sol = odeint(M6, y0, time, args=(params,))\n",
    "\n",
    "# Plot\n",
    "plt.plot(time/60,sol[:,0], label='m');\n",
    "plt.plot(time/60,sol[:,1], label='p');\n",
    "plt.xlabel('t (h)'); plt.ylabel('concs (nM)'); plt.legend(); plt.show()"
   ]
  },
  {
   "cell_type": "markdown",
   "metadata": {},
   "source": [
    "### 7. Explicit resource consumption: TXTL toolbox (Tuza et al. 2015)"
   ]
  },
  {
   "cell_type": "markdown",
   "metadata": {},
   "source": [
    "This model explicitly models resource consumption, by simulating a single lumped NTP species $x_5$ which is consumed by transcription, and a single lumped aminoacyl-tRNA species $x_6$ consumed by translation. These species are also subject to degradation. The model mechanistically describes the intermediate steps in transcription (but not translation), and thus is more fine-grained than earlier models. \n",
    "\n",
    "This model forms the basis of the TXTL toolbox from the Murray and Noireaux labs, originally written in Matlab (https://github.com/BuildACell/txtlsim) but slowly being ported to Python (https://github.com/BuildACell/txtlsim-python). \n",
    " \n",
    "Reference: https://doi.org/10.1109/ECC.2015.7330760"
   ]
  },
  {
   "cell_type": "markdown",
   "metadata": {},
   "source": [
    "*Mechanism*\n",
    "\n",
    "<img src=\"./img/tuza_mech.gif\" width=400 />\n",
    "\n",
    "*ODEs*\n",
    "\n",
    "\\begin{align}\n",
    "\\dot{x_1}&=-F_1 \\\\\n",
    "\\dot{x_2}&=-F_1 \\\\\n",
    "\\dot{x_3}&=-F_3+F_{10} \\\\\n",
    "\\dot{x_4}&=F_1-F_4+F_7 \\\\\n",
    "\\dot{x_5}&=-F_5-F_{12} \\\\\n",
    "\\dot{x_6}&=-F_8-F_{13} \\\\\n",
    "\\dot{x_7}&=-F_2+F_{10} \\\\\n",
    "\\dot{x_8}&=F_2 \\\\\n",
    "\\dot{x_9}&=-F_3+F_7+F_{10}-F_{11} \\\\\n",
    "\\dot{x_10}&=F_3-F_8+F_9 \\\\\n",
    "\\dot{x_11}&=-F_4+F_7 \\\\\n",
    "\\dot{x_12}&=F_4-F_5+F_6 \\\\\n",
    "\\dot{x_13}&=F_5-F_6-F_7 \\\\\n",
    "\\dot{x_14}&=F_8-F_9-F_{10} \n",
    "\\end{align}\n",
    "\n",
    "\\begin{align}\n",
    "F_{1}&= p_2x_1x_2 - p_3x_4\\\\\n",
    "F_{2}&= p_4x_7\\\\\n",
    "F_{3}&= p_5x_9x_3-p_6x_{10}\\\\\n",
    "F_{4}&= p_7x_{11}x_4-p_8x_{12}\\\\\n",
    "F_{5}&= p_9x_{12}x_5 - p_{10}x_{13}\\\\\n",
    "F_{6}&= p_{11}x_{13}\\\\\n",
    "F_{7}&= p_{12}x_{13}\\\\\n",
    "F_{8}&= p_{13}x_{13}x_6-p_{14}x_{14}\\\\\n",
    "F_{9}&= p_{15}x_{14}\\\\\n",
    "F_{10}&= p_{16}x_{14}\\\\\n",
    "F_{11}&= p_{17}x_9\\\\\n",
    "F_{12}&= p_{18}x_5\\\\\n",
    "F_{13}&= p_1x_6 \n",
    "\\end{align}"
   ]
  },
  {
   "cell_type": "code",
   "execution_count": 7,
   "metadata": {
    "code_folding": [
     0,
     3
    ]
   },
   "outputs": [
    {
     "data": {
      "image/png": "[encoded data removed]",
      "text/plain": [
       "<Figure size 432x288 with 1 Axes>"
      ]
     },
     "metadata": {
      "needs_background": "light"
     },
     "output_type": "display_data"
    }
   ],
   "source": [
    "# Implementation\n",
    "\n",
    "# Define the model's gradient function\n",
    "def M7(x, t, params):\n",
    "    x1=x[0]\n",
    "    x2=x[1]\n",
    "    x3=x[2]\n",
    "    x4=x[3]\n",
    "    x5=x[4]\n",
    "    x6=x[5]\n",
    "    x7=x[6]\n",
    "    x8=x[7]\n",
    "    x9=x[8]\n",
    "    x10=x[9]\n",
    "    x11=x[10]\n",
    "    x12=x[11]\n",
    "    x13=x[12]\n",
    "    x14=x[13]\n",
    "    \n",
    "    p1=params[0]\n",
    "    p2=params[1]\n",
    "    p3=params[2]\n",
    "    p4=params[3]\n",
    "    p5=params[4]\n",
    "    p6=params[5]\n",
    "    p7=params[6]\n",
    "    p8=params[7]\n",
    "    p9=params[8]\n",
    "    p10=params[9]\n",
    "    p11=params[10]\n",
    "    p12=params[11]\n",
    "    p13=params[12]\n",
    "    p14=params[13]\n",
    "    p15=params[14]\n",
    "    p16=params[15]\n",
    "    p17=params[16]\n",
    "    p18=params[17]\n",
    "   \n",
    "    F1=0 # SSA p2*x1*x2-p3*x4\n",
    "    F2=p4*x7\n",
    "    F3=p5*x9*x3-p6*x10\n",
    "    F4=p7*x11*x4-p8*x12\n",
    "    F5=p9*x12*x5-p10*x13\n",
    "    F6=p11*x13\n",
    "    F7=p12*x13\n",
    "    F8=p13*x10*x6-p14*x14\n",
    "    F9=p15*x14\n",
    "    F10=p16*x14\n",
    "    F11=p17*x9\n",
    "    F12=p18*x5\n",
    "    F13=p1*x6\n",
    "    \n",
    "    derivs=[\n",
    "        -F1,\n",
    "        -F1,\n",
    "        -F3+F10,\n",
    "        F1-F4+F7,\n",
    "        -F5-F12,\n",
    "        -F8-F13,\n",
    "        -F2+F10,\n",
    "        F2,\n",
    "        -F3+F7+F10-F11,\n",
    "        F3-F8+F9,\n",
    "        -F4+F7,\n",
    "        F4-F5+F6,\n",
    "        F5-F6-F7,\n",
    "        F8-F9-F10\n",
    "    ]\n",
    "    \n",
    "    return(derivs)\n",
    "\n",
    "# Set initial condition\n",
    "x1_0=100 # nM RNAP\n",
    "x2_0=35 # nM s70\n",
    "x3_0=375.58 # nM ribo\n",
    "x4_0=276.13 # nM Rs\n",
    "x5_0=1200 # nM NTP \n",
    "x6_0=1500 # nM AA\n",
    "x7_0=0\n",
    "x8_0=0\n",
    "x9_0=0\n",
    "x10_0=0\n",
    "x11_0=10 #10 nM DNA\n",
    "x12_0=0\n",
    "x13_0=0\n",
    "x14_0=0\n",
    "\n",
    "# Set parameters\n",
    "b=1/100*(1000)\n",
    "p1=1.9e-4 #1/s\n",
    "p2=0 # not used\n",
    "p3=0 # not used\n",
    "p4=1/6/60 #/s maturation rate measured\n",
    "p5=6.94e-2 #1/(s.nM)\n",
    "p6=8.43e-1 #1/s\n",
    "p7=7e-3 #1/(s.nM)\n",
    "p8=1.38e2 #1/s\n",
    "p9=6.2e-2 #1/(s.nM)\n",
    "p10=3.55e-1 #1/s\n",
    "p11=(b-1)*8.9e-3 #1/s AUX RXN\n",
    "p12=8.9e-3 #1/s\n",
    "p13=5.95e-2 #1/(s.nM)\n",
    "p14=2.33e5 #1/s\n",
    "p15=b/3*3.02e-1 #1/s AUX RXN\n",
    "p16=3.02e-1 #1/s\n",
    "p17=1.07e-3 #1/s mRNA degradation restricted\n",
    "p18=2.98e-4 #1/s\n",
    "\n",
    "# Solve\n",
    "time = np.linspace(0,12*60*60,361) # 12 hours\n",
    "y0 = np.array([x1_0,x2_0,x3_0,x4_0,x5_0,x6_0,x7_0,x8_0,x9_0,x10_0,x11_0,x12_0,x13_0,x14_0])\n",
    "params = np.array([p1,p2,p3,p4,p5,p6,p7,p8,p9,p10,p11,p12,p13,p14,p15,p16,p17,p18])\n",
    "sol = odeint(M7, y0, time, args=(params,))\n",
    "\n",
    "# Plot\n",
    "plt.plot(time/3600,sol[:,8]+sol[:,9]+sol[:,13], label='m');\n",
    "plt.plot(time/3600,sol[:,7], label='p');\n",
    "plt.xlabel('t (h)'); plt.ylabel('concs (nM)'); plt.legend(); plt.show()"
   ]
  },
  {
   "cell_type": "markdown",
   "metadata": {},
   "source": [
    "### 8. PURE system model (Mavelli et al. 2015)"
   ]
  },
  {
   "cell_type": "markdown",
   "metadata": {},
   "source": [
    "This model is a good example of an integrated cell-free model which takes combines cell-free protein synthesis with a basic metabolism. It does this by separating the PURE system into its four functional components: transcription, translation, aminoacylation of tRNA, and energy regeneration. It describes the enzymatic steps for each process using 'multiple saturation kinetics', or a production of Michaelis-Menten-like terms. \n",
    "\n",
    "Reference: https://doi.org/10.1007/s11538-015-0082-8"
   ]
  },
  {
   "cell_type": "markdown",
   "metadata": {},
   "source": [
    "*Mechanism*\n",
    "\n",
    "display(Image(filename=\"img/mavelli.png\", embed=True))\n",
    "#<img src=\"./img/mavelli.png\" width=400 />"
   ]
  },
  {
   "cell_type": "code",
   "execution_count": 2,
   "metadata": {},
   "outputs": [
    {
     "ename": "FileNotFoundError",
     "evalue": "[Errno 2] No such file or directory: './img/mavelli.png'",
     "output_type": "error",
     "traceback": [
      "\u001b[0;31m---------------------------------------------------------------------------\u001b[0m",
      "\u001b[0;31mFileNotFoundError\u001b[0m                         Traceback (most recent call last)",
      "\u001b[0;32m<ipython-input-2-882bbc45dafe>\u001b[0m in \u001b[0;36m<module>\u001b[0;34m\u001b[0m\n\u001b[0;32m----> 1\u001b[0;31m \u001b[0mdisplay\u001b[0m\u001b[0;34m(\u001b[0m\u001b[0mImage\u001b[0m\u001b[0;34m(\u001b[0m\u001b[0mfilename\u001b[0m\u001b[0;34m=\u001b[0m\u001b[0;34m\"./img/mavelli.png\"\u001b[0m\u001b[0;34m,\u001b[0m \u001b[0membed\u001b[0m\u001b[0;34m=\u001b[0m\u001b[0;32mTrue\u001b[0m\u001b[0;34m)\u001b[0m\u001b[0;34m)\u001b[0m\u001b[0;34m\u001b[0m\u001b[0;34m\u001b[0m\u001b[0m\n\u001b[0m",
      "\u001b[0;32m~/anaconda3/envs/MSc2020/lib/python3.7/site-packages/IPython/core/display.py\u001b[0m in \u001b[0;36m__init__\u001b[0;34m(self, data, url, filename, format, embed, width, height, retina, unconfined, metadata)\u001b[0m\n\u001b[1;32m   1202\u001b[0m         \u001b[0mself\u001b[0m\u001b[0;34m.\u001b[0m\u001b[0munconfined\u001b[0m \u001b[0;34m=\u001b[0m \u001b[0munconfined\u001b[0m\u001b[0;34m\u001b[0m\u001b[0;34m\u001b[0m\u001b[0m\n\u001b[1;32m   1203\u001b[0m         super(Image, self).__init__(data=data, url=url, filename=filename, \n\u001b[0;32m-> 1204\u001b[0;31m                 metadata=metadata)\n\u001b[0m\u001b[1;32m   1205\u001b[0m \u001b[0;34m\u001b[0m\u001b[0m\n\u001b[1;32m   1206\u001b[0m         \u001b[0;32mif\u001b[0m \u001b[0mself\u001b[0m\u001b[0;34m.\u001b[0m\u001b[0mwidth\u001b[0m \u001b[0;32mis\u001b[0m \u001b[0;32mNone\u001b[0m \u001b[0;32mand\u001b[0m \u001b[0mself\u001b[0m\u001b[0;34m.\u001b[0m\u001b[0mmetadata\u001b[0m\u001b[0;34m.\u001b[0m\u001b[0mget\u001b[0m\u001b[0;34m(\u001b[0m\u001b[0;34m'width'\u001b[0m\u001b[0;34m,\u001b[0m \u001b[0;34m{\u001b[0m\u001b[0;34m}\u001b[0m\u001b[0;34m)\u001b[0m\u001b[0;34m:\u001b[0m\u001b[0;34m\u001b[0m\u001b[0;34m\u001b[0m\u001b[0m\n",
      "\u001b[0;32m~/anaconda3/envs/MSc2020/lib/python3.7/site-packages/IPython/core/display.py\u001b[0m in \u001b[0;36m__init__\u001b[0;34m(self, data, url, filename, metadata)\u001b[0m\n\u001b[1;32m    625\u001b[0m             \u001b[0mself\u001b[0m\u001b[0;34m.\u001b[0m\u001b[0mmetadata\u001b[0m \u001b[0;34m=\u001b[0m \u001b[0;34m{\u001b[0m\u001b[0;34m}\u001b[0m\u001b[0;34m\u001b[0m\u001b[0;34m\u001b[0m\u001b[0m\n\u001b[1;32m    626\u001b[0m \u001b[0;34m\u001b[0m\u001b[0m\n\u001b[0;32m--> 627\u001b[0;31m         \u001b[0mself\u001b[0m\u001b[0;34m.\u001b[0m\u001b[0mreload\u001b[0m\u001b[0;34m(\u001b[0m\u001b[0;34m)\u001b[0m\u001b[0;34m\u001b[0m\u001b[0;34m\u001b[0m\u001b[0m\n\u001b[0m\u001b[1;32m    628\u001b[0m         \u001b[0mself\u001b[0m\u001b[0;34m.\u001b[0m\u001b[0m_check_data\u001b[0m\u001b[0;34m(\u001b[0m\u001b[0;34m)\u001b[0m\u001b[0;34m\u001b[0m\u001b[0;34m\u001b[0m\u001b[0m\n\u001b[1;32m    629\u001b[0m \u001b[0;34m\u001b[0m\u001b[0m\n",
      "\u001b[0;32m~/anaconda3/envs/MSc2020/lib/python3.7/site-packages/IPython/core/display.py\u001b[0m in \u001b[0;36mreload\u001b[0;34m(self)\u001b[0m\n\u001b[1;32m   1233\u001b[0m         \u001b[0;34m\"\"\"Reload the raw data from file or URL.\"\"\"\u001b[0m\u001b[0;34m\u001b[0m\u001b[0;34m\u001b[0m\u001b[0m\n\u001b[1;32m   1234\u001b[0m         \u001b[0;32mif\u001b[0m \u001b[0mself\u001b[0m\u001b[0;34m.\u001b[0m\u001b[0membed\u001b[0m\u001b[0;34m:\u001b[0m\u001b[0;34m\u001b[0m\u001b[0;34m\u001b[0m\u001b[0m\n\u001b[0;32m-> 1235\u001b[0;31m             \u001b[0msuper\u001b[0m\u001b[0;34m(\u001b[0m\u001b[0mImage\u001b[0m\u001b[0;34m,\u001b[0m\u001b[0mself\u001b[0m\u001b[0;34m)\u001b[0m\u001b[0;34m.\u001b[0m\u001b[0mreload\u001b[0m\u001b[0;34m(\u001b[0m\u001b[0;34m)\u001b[0m\u001b[0;34m\u001b[0m\u001b[0;34m\u001b[0m\u001b[0m\n\u001b[0m\u001b[1;32m   1236\u001b[0m             \u001b[0;32mif\u001b[0m \u001b[0mself\u001b[0m\u001b[0;34m.\u001b[0m\u001b[0mretina\u001b[0m\u001b[0;34m:\u001b[0m\u001b[0;34m\u001b[0m\u001b[0;34m\u001b[0m\u001b[0m\n\u001b[1;32m   1237\u001b[0m                 \u001b[0mself\u001b[0m\u001b[0;34m.\u001b[0m\u001b[0m_retina_shape\u001b[0m\u001b[0;34m(\u001b[0m\u001b[0;34m)\u001b[0m\u001b[0;34m\u001b[0m\u001b[0;34m\u001b[0m\u001b[0m\n",
      "\u001b[0;32m~/anaconda3/envs/MSc2020/lib/python3.7/site-packages/IPython/core/display.py\u001b[0m in \u001b[0;36mreload\u001b[0;34m(self)\u001b[0m\n\u001b[1;32m    650\u001b[0m         \u001b[0;34m\"\"\"Reload the raw data from file or URL.\"\"\"\u001b[0m\u001b[0;34m\u001b[0m\u001b[0;34m\u001b[0m\u001b[0m\n\u001b[1;32m    651\u001b[0m         \u001b[0;32mif\u001b[0m \u001b[0mself\u001b[0m\u001b[0;34m.\u001b[0m\u001b[0mfilename\u001b[0m \u001b[0;32mis\u001b[0m \u001b[0;32mnot\u001b[0m \u001b[0;32mNone\u001b[0m\u001b[0;34m:\u001b[0m\u001b[0;34m\u001b[0m\u001b[0;34m\u001b[0m\u001b[0m\n\u001b[0;32m--> 652\u001b[0;31m             \u001b[0;32mwith\u001b[0m \u001b[0mopen\u001b[0m\u001b[0;34m(\u001b[0m\u001b[0mself\u001b[0m\u001b[0;34m.\u001b[0m\u001b[0mfilename\u001b[0m\u001b[0;34m,\u001b[0m \u001b[0mself\u001b[0m\u001b[0;34m.\u001b[0m\u001b[0m_read_flags\u001b[0m\u001b[0;34m)\u001b[0m \u001b[0;32mas\u001b[0m \u001b[0mf\u001b[0m\u001b[0;34m:\u001b[0m\u001b[0;34m\u001b[0m\u001b[0;34m\u001b[0m\u001b[0m\n\u001b[0m\u001b[1;32m    653\u001b[0m                 \u001b[0mself\u001b[0m\u001b[0;34m.\u001b[0m\u001b[0mdata\u001b[0m \u001b[0;34m=\u001b[0m \u001b[0mf\u001b[0m\u001b[0;34m.\u001b[0m\u001b[0mread\u001b[0m\u001b[0;34m(\u001b[0m\u001b[0;34m)\u001b[0m\u001b[0;34m\u001b[0m\u001b[0;34m\u001b[0m\u001b[0m\n\u001b[1;32m    654\u001b[0m         \u001b[0;32melif\u001b[0m \u001b[0mself\u001b[0m\u001b[0;34m.\u001b[0m\u001b[0murl\u001b[0m \u001b[0;32mis\u001b[0m \u001b[0;32mnot\u001b[0m \u001b[0;32mNone\u001b[0m\u001b[0;34m:\u001b[0m\u001b[0;34m\u001b[0m\u001b[0;34m\u001b[0m\u001b[0m\n",
      "\u001b[0;31mFileNotFoundError\u001b[0m: [Errno 2] No such file or directory: './img/mavelli.png'"
     ]
    }
   ],
   "source": [
    "display(Image(filename=\"./img/mavelli.png\", embed=True))"
   ]
  },
  {
   "cell_type": "code",
   "execution_count": 10,
   "metadata": {
    "code_folding": []
   },
   "outputs": [
    {
     "data": {
      "image/png": "[encoded data removed]",
      "text/plain": [
       "<Figure size 432x288 with 1 Axes>"
      ]
     },
     "metadata": {
      "needs_background": "light"
     },
     "output_type": "display_data"
    }
   ],
   "source": [
    "# Implementation\n",
    "\n",
    "# Define helper Hill function\n",
    "def MM(c,K):\n",
    "    return(c/(K+c))\n",
    "\n",
    "# Define the model's gradient function\n",
    "def M8(y, t, params):\n",
    "    NTP = y[0]\n",
    "    NXP = y[1]\n",
    "    nt = y[2]\n",
    "    Ppi = y[3]\n",
    "    ATr = y[4]\n",
    "    a = y[5]\n",
    "    T = y[6]\n",
    "    A = y[7]\n",
    "    CP = y[8]  \n",
    "    C = y[9]\n",
    "    CTL = y[10]\n",
    "\n",
    "    \n",
    "    d = params[0]\n",
    "    CTX = params[1]\n",
    "    CRS = params[2]\n",
    "    CEN = params[3]    \n",
    "    kTX = params[4]\n",
    "    kTL = params[5]\n",
    "    kRS = params[6]\n",
    "    kEN = params[7]\n",
    "    kntdeg = params[8]\n",
    "    kTLdeg = params[9]\n",
    "    Ktxd = params[10]\n",
    "    KtxN = params[11]\n",
    "    Ktln = params[12]\n",
    "    Ktla = params[13]\n",
    "    KtlNt = params[14]\n",
    "    KrsA = params[15]\n",
    "    Krst = params[16]\n",
    "    KrsN = params[17]\n",
    "    Kenc = params[18]\n",
    "    KenN = params[19]\n",
    "    nT = params[20]\n",
    "    nA = params[21]\n",
    "\n",
    "    VTX = kTX*CTX*MM(d,Ktxd)*MM(NTP,KtxN)\n",
    "    VTL = kTL*CTL*MM(nt,Ktln)*MM(nT/nA*ATr,Ktla)*MM(NTP,KtlNt)\n",
    "    VRS = kRS*CRS*MM(A,KrsA)*MM(nT/nA*T,Krst)*MM(NTP,KrsN)\n",
    "    VEN = kEN*CEN*MM(CP,Kenc)*MM(NXP,KenN)\n",
    "    \n",
    "    derivs = [\n",
    "        -VTX - 2*VTL -VRS + VEN,\n",
    "        2*VTL + VRS + VEN,\n",
    "        VTX - kntdeg*nt,\n",
    "        VTX,\n",
    "        -VTL + VRS,\n",
    "        VTL ,\n",
    "        VTL - VRS,\n",
    "        -VRS,\n",
    "        -VEN,\n",
    "        VEN,\n",
    "        -kTLdeg*CTL\n",
    "    ]\n",
    "    return(derivs)\n",
    "\n",
    "# Set initial conditions \n",
    "NTP = 1500 # uM\n",
    "NXP = 0 # uM\n",
    "nt = 0 # uM\n",
    "Ppi = 0 # uM\n",
    "ATr = 0 # uM\n",
    "a = 0 # uM\n",
    "T = 1.9 # uM\n",
    "A = 300 # uM\n",
    "CP = 20000 # uM\n",
    "C = 0 # uM\n",
    "CTL = 2.2 # uM\n",
    "\n",
    "# Set parameters\n",
    "d = 1.7e-3 # uM\n",
    "CTX = 0.1 \n",
    "CRS = 0.16\n",
    "CEN = 0.08    \n",
    "kTX = 1.67 # s^-1\n",
    "kTL = 0.085 # s^-1\n",
    "kRS = 6.2 # s^-1\n",
    "kEN = 100 # s^-1\n",
    "kntdeg = 7.92e-5 # s^-1\n",
    "kTLdeg = 1.86e-4 # s^-1\n",
    "Ktxd = 5e-3 # uM \n",
    "KtxN = 80 # uM\n",
    "Ktln = 226 # uM\n",
    "Ktla = 10 # uM\n",
    "KtlNt = 10 # uM\n",
    "KrsA = 23 # uM\n",
    "Krst = 0.7 # uM\n",
    "KrsN = 200 # uM\n",
    "Kenc = 200 # uM\n",
    "KenN = 40 # uM\n",
    "nT = 46\n",
    "nA = 20\n",
    "\n",
    "# Solve\n",
    "\n",
    "time=np.linspace(0,6*60*60,61)\n",
    "y0 = np.array([NTP,NXP,nt,Ppi,ATr,a,T,A,CP,C,CTL])\n",
    "params = np.array([d,CTX,CRS,CEN,kTX,kTL,kRS,kEN,\n",
    "                  kntdeg,kTLdeg,Ktxd,KtxN,Ktln,Ktla,\n",
    "                  KtlNt,KrsA,Krst,KrsN,Kenc,KenN,nT,nA])\n",
    "sol = odeint(M8, y0, time, args=(params,),mxstep=10000000)\n",
    "\n",
    "# Plot\n",
    "plt.plot(time/3600,sol[:,2], label='m');\n",
    "plt.plot(time/3600,sol[:,5], label='p');\n",
    "plt.xlabel('t (h)'); plt.ylabel('concs (uM)'); plt.legend(); plt.show()"
   ]
  },
  {
   "cell_type": "markdown",
   "metadata": {},
   "source": [
    "### Other models to do:\n",
    "\n",
    "Recent relevent models have focused on translation. \n",
    "\n",
    "PURE system\n",
    "* Doerr et al. 2019 - mechanistic translation model (https://doi.org/10.1088/1478-3975/aaf33d)\n",
    "\n",
    "Lysate\n",
    "* Nieß et al. 2017 - mechanistic translation model (https://doi.org/10.1021/acssynbio.7b00117)\n"
   ]
  },
  {
   "cell_type": "code",
   "execution_count": null,
   "metadata": {},
   "outputs": [],
   "source": []
  },
  {
   "cell_type": "code",
   "execution_count": null,
   "metadata": {},
   "outputs": [],
   "source": []
  }
 ],
 "metadata": {
  "kernelspec": {
   "display_name": "MSc2020",
   "language": "python",
   "name": "msc2020"
  },
  "language_info": {
   "codemirror_mode": {
    "name": "ipython",
    "version": 3
   },
   "file_extension": ".py",
   "mimetype": "text/x-python",
   "name": "python",
   "nbconvert_exporter": "python",
   "pygments_lexer": "ipython3",
   "version": "3.7.7"
  },
  "latex_envs": {
   "LaTeX_envs_menu_present": true,
   "autoclose": true,
   "autocomplete": true,
   "bibliofile": "biblio.bib",
   "cite_by": "apalike",
   "current_citInitial": 1,
   "eqLabelWithNumbers": true,
   "eqNumInitial": 1,
   "hotkeys": {
    "equation": "Ctrl-E",
    "itemize": "Ctrl-I"
   },
   "labels_anchors": false,
   "latex_user_defs": false,
   "report_style_numbering": false,
   "user_envs_cfg": false
  }
 },
 "nbformat": 4,
 "nbformat_minor": 2
}
